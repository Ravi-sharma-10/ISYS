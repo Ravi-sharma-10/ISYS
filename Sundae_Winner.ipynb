{
  "nbformat": 4,
  "nbformat_minor": 0,
  "metadata": {
    "colab": {
      "provenance": [],
      "collapsed_sections": [],
      "authorship_tag": "ABX9TyMY9QgAyJV3CbQCd6IGYtH+",
      "include_colab_link": true
    },
    "kernelspec": {
      "name": "python3",
      "display_name": "Python 3"
    },
    "language_info": {
      "name": "python"
    }
  },
  "cells": [
    {
      "cell_type": "markdown",
      "metadata": {
        "id": "view-in-github",
        "colab_type": "text"
      },
      "source": [
        "<a href=\"https://colab.research.google.com/github/Ravi-sharma-10/ISYS/blob/main/Sundae_Winner.ipynb\" target=\"_parent\"><img src=\"https://colab.research.google.com/assets/colab-badge.svg\" alt=\"Open In Colab\"/></a>"
      ]
    },
    {
      "cell_type": "code",
      "execution_count": null,
      "metadata": {
        "colab": {
          "base_uri": "https://localhost:8080/"
        },
        "id": "OyBnA_G-Ncfr",
        "outputId": "d20e9733-6047-44e0-bc8e-11970995d367"
      },
      "outputs": [
        {
          "output_type": "stream",
          "name": "stdout",
          "text": [
            "Congratulations John you have won an ice cream sundae!\n",
            "Would you like a cherry on top? yes\n",
            "One vanilla sundae  with a cherry on top for John coming right up...\n"
          ]
        }
      ],
      "source": [
        "import random\n",
        "customers = ['Jimmy', 'Kim', 'John', 'Stacie'] #Make a list of customers\n",
        "winner = random.choice(customers) #choose any customer as winner on random basis\n",
        "flavor = 'vanilla' #Fix the flavor of the sundae to vanilla\n",
        "print('Congratulations ' + winner +\n",
        " ' you have won an ice cream sundae!') # Print the congratulation message with the name of customer\n",
        "prompt = 'Would you like a cherry on top? ' #Ask a question to customer\n",
        "wants_cherry = input(prompt) #Answer the question\n",
        "order = flavor + ' sundae ' #The final order will be the flavor and sundae\n",
        "if (wants_cherry == 'yes'):\n",
        " order = order + ' with a cherry on top' #If the customer wants cherry, add it \n",
        "\n",
        "print('One ' + order + ' for ' + winner +\n",
        " ' coming right up...') #Print the full order with the name of the customer"
      ]
    }
  ]
}